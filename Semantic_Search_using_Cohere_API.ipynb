{
  "cells": [
    {
      "cell_type": "code",
      "execution_count": 1,
      "metadata": {
        "colab": {
          "base_uri": "https://localhost:8080/"
        },
        "id": "KQSBUEfXk_Je",
        "outputId": "43301a3f-99db-47ad-bbc3-c35fc01b89b8"
      },
      "outputs": [
        {
          "output_type": "stream",
          "name": "stdout",
          "text": [
            "Collecting cohere\n",
            "  Downloading cohere-4.37-py3-none-any.whl (48 kB)\n",
            "\u001b[2K     \u001b[90m━━━━━━━━━━━━━━━━━━━━━━━━━━━━━━━━━━━━━━━━\u001b[0m \u001b[32m48.9/48.9 kB\u001b[0m \u001b[31m2.0 MB/s\u001b[0m eta \u001b[36m0:00:00\u001b[0m\n",
            "\u001b[?25hCollecting umap-learn\n",
            "  Downloading umap-learn-0.5.5.tar.gz (90 kB)\n",
            "\u001b[2K     \u001b[90m━━━━━━━━━━━━━━━━━━━━━━━━━━━━━━━━━━━━━━━━\u001b[0m \u001b[32m90.9/90.9 kB\u001b[0m \u001b[31m5.1 MB/s\u001b[0m eta \u001b[36m0:00:00\u001b[0m\n",
            "\u001b[?25h  Preparing metadata (setup.py) ... \u001b[?25l\u001b[?25hdone\n",
            "Requirement already satisfied: altair in /usr/local/lib/python3.10/dist-packages (4.2.2)\n",
            "Collecting datasets\n",
            "  Downloading datasets-2.15.0-py3-none-any.whl (521 kB)\n",
            "\u001b[2K     \u001b[90m━━━━━━━━━━━━━━━━━━━━━━━━━━━━━━━━━━━━━━━━\u001b[0m \u001b[32m521.2/521.2 kB\u001b[0m \u001b[31m10.6 MB/s\u001b[0m eta \u001b[36m0:00:00\u001b[0m\n",
            "\u001b[?25hRequirement already satisfied: aiohttp<4.0,>=3.0 in /usr/local/lib/python3.10/dist-packages (from cohere) (3.8.6)\n",
            "Collecting backoff<3.0,>=2.0 (from cohere)\n",
            "  Downloading backoff-2.2.1-py3-none-any.whl (15 kB)\n",
            "Collecting fastavro<2.0,>=1.8 (from cohere)\n",
            "  Downloading fastavro-1.9.0-cp310-cp310-manylinux_2_17_x86_64.manylinux2014_x86_64.whl (3.1 MB)\n",
            "\u001b[2K     \u001b[90m━━━━━━━━━━━━━━━━━━━━━━━━━━━━━━━━━━━━━━━━\u001b[0m \u001b[32m3.1/3.1 MB\u001b[0m \u001b[31m25.3 MB/s\u001b[0m eta \u001b[36m0:00:00\u001b[0m\n",
            "\u001b[?25hRequirement already satisfied: importlib_metadata<7.0,>=6.0 in /usr/local/lib/python3.10/dist-packages (from cohere) (6.8.0)\n",
            "Requirement already satisfied: requests<3.0.0,>=2.25.0 in /usr/local/lib/python3.10/dist-packages (from cohere) (2.31.0)\n",
            "Requirement already satisfied: urllib3<3,>=1.26 in /usr/local/lib/python3.10/dist-packages (from cohere) (2.0.7)\n",
            "Requirement already satisfied: numpy>=1.17 in /usr/local/lib/python3.10/dist-packages (from umap-learn) (1.23.5)\n",
            "Requirement already satisfied: scipy>=1.3.1 in /usr/local/lib/python3.10/dist-packages (from umap-learn) (1.11.3)\n",
            "Requirement already satisfied: scikit-learn>=0.22 in /usr/local/lib/python3.10/dist-packages (from umap-learn) (1.2.2)\n",
            "Requirement already satisfied: numba>=0.51.2 in /usr/local/lib/python3.10/dist-packages (from umap-learn) (0.58.1)\n",
            "Collecting pynndescent>=0.5 (from umap-learn)\n",
            "  Downloading pynndescent-0.5.11-py3-none-any.whl (55 kB)\n",
            "\u001b[2K     \u001b[90m━━━━━━━━━━━━━━━━━━━━━━━━━━━━━━━━━━━━━━━━\u001b[0m \u001b[32m55.8/55.8 kB\u001b[0m \u001b[31m7.6 MB/s\u001b[0m eta \u001b[36m0:00:00\u001b[0m\n",
            "\u001b[?25hRequirement already satisfied: tqdm in /usr/local/lib/python3.10/dist-packages (from umap-learn) (4.66.1)\n",
            "Requirement already satisfied: entrypoints in /usr/local/lib/python3.10/dist-packages (from altair) (0.4)\n",
            "Requirement already satisfied: jinja2 in /usr/local/lib/python3.10/dist-packages (from altair) (3.1.2)\n",
            "Requirement already satisfied: jsonschema>=3.0 in /usr/local/lib/python3.10/dist-packages (from altair) (4.19.2)\n",
            "Requirement already satisfied: pandas>=0.18 in /usr/local/lib/python3.10/dist-packages (from altair) (1.5.3)\n",
            "Requirement already satisfied: toolz in /usr/local/lib/python3.10/dist-packages (from altair) (0.12.0)\n",
            "Requirement already satisfied: pyarrow>=8.0.0 in /usr/local/lib/python3.10/dist-packages (from datasets) (9.0.0)\n",
            "Collecting pyarrow-hotfix (from datasets)\n",
            "  Downloading pyarrow_hotfix-0.6-py3-none-any.whl (7.9 kB)\n",
            "Collecting dill<0.3.8,>=0.3.0 (from datasets)\n",
            "  Downloading dill-0.3.7-py3-none-any.whl (115 kB)\n",
            "\u001b[2K     \u001b[90m━━━━━━━━━━━━━━━━━━━━━━━━━━━━━━━━━━━━━━━━\u001b[0m \u001b[32m115.3/115.3 kB\u001b[0m \u001b[31m13.0 MB/s\u001b[0m eta \u001b[36m0:00:00\u001b[0m\n",
            "\u001b[?25hRequirement already satisfied: xxhash in /usr/local/lib/python3.10/dist-packages (from datasets) (3.4.1)\n",
            "Collecting multiprocess (from datasets)\n",
            "  Downloading multiprocess-0.70.15-py310-none-any.whl (134 kB)\n",
            "\u001b[2K     \u001b[90m━━━━━━━━━━━━━━━━━━━━━━━━━━━━━━━━━━━━━━━━\u001b[0m \u001b[32m134.8/134.8 kB\u001b[0m \u001b[31m16.5 MB/s\u001b[0m eta \u001b[36m0:00:00\u001b[0m\n",
            "\u001b[?25hRequirement already satisfied: fsspec[http]<=2023.10.0,>=2023.1.0 in /usr/local/lib/python3.10/dist-packages (from datasets) (2023.6.0)\n",
            "Requirement already satisfied: huggingface-hub>=0.18.0 in /usr/local/lib/python3.10/dist-packages (from datasets) (0.19.4)\n",
            "Requirement already satisfied: packaging in /usr/local/lib/python3.10/dist-packages (from datasets) (23.2)\n",
            "Requirement already satisfied: pyyaml>=5.1 in /usr/local/lib/python3.10/dist-packages (from datasets) (6.0.1)\n",
            "Requirement already satisfied: attrs>=17.3.0 in /usr/local/lib/python3.10/dist-packages (from aiohttp<4.0,>=3.0->cohere) (23.1.0)\n",
            "Requirement already satisfied: charset-normalizer<4.0,>=2.0 in /usr/local/lib/python3.10/dist-packages (from aiohttp<4.0,>=3.0->cohere) (3.3.2)\n",
            "Requirement already satisfied: multidict<7.0,>=4.5 in /usr/local/lib/python3.10/dist-packages (from aiohttp<4.0,>=3.0->cohere) (6.0.4)\n",
            "Requirement already satisfied: async-timeout<5.0,>=4.0.0a3 in /usr/local/lib/python3.10/dist-packages (from aiohttp<4.0,>=3.0->cohere) (4.0.3)\n",
            "Requirement already satisfied: yarl<2.0,>=1.0 in /usr/local/lib/python3.10/dist-packages (from aiohttp<4.0,>=3.0->cohere) (1.9.2)\n",
            "Requirement already satisfied: frozenlist>=1.1.1 in /usr/local/lib/python3.10/dist-packages (from aiohttp<4.0,>=3.0->cohere) (1.4.0)\n",
            "Requirement already satisfied: aiosignal>=1.1.2 in /usr/local/lib/python3.10/dist-packages (from aiohttp<4.0,>=3.0->cohere) (1.3.1)\n",
            "Requirement already satisfied: filelock in /usr/local/lib/python3.10/dist-packages (from huggingface-hub>=0.18.0->datasets) (3.13.1)\n",
            "Requirement already satisfied: typing-extensions>=3.7.4.3 in /usr/local/lib/python3.10/dist-packages (from huggingface-hub>=0.18.0->datasets) (4.5.0)\n",
            "Requirement already satisfied: zipp>=0.5 in /usr/local/lib/python3.10/dist-packages (from importlib_metadata<7.0,>=6.0->cohere) (3.17.0)\n",
            "Requirement already satisfied: jsonschema-specifications>=2023.03.6 in /usr/local/lib/python3.10/dist-packages (from jsonschema>=3.0->altair) (2023.11.1)\n",
            "Requirement already satisfied: referencing>=0.28.4 in /usr/local/lib/python3.10/dist-packages (from jsonschema>=3.0->altair) (0.31.0)\n",
            "Requirement already satisfied: rpds-py>=0.7.1 in /usr/local/lib/python3.10/dist-packages (from jsonschema>=3.0->altair) (0.13.0)\n",
            "Requirement already satisfied: llvmlite<0.42,>=0.41.0dev0 in /usr/local/lib/python3.10/dist-packages (from numba>=0.51.2->umap-learn) (0.41.1)\n",
            "Requirement already satisfied: python-dateutil>=2.8.1 in /usr/local/lib/python3.10/dist-packages (from pandas>=0.18->altair) (2.8.2)\n",
            "Requirement already satisfied: pytz>=2020.1 in /usr/local/lib/python3.10/dist-packages (from pandas>=0.18->altair) (2023.3.post1)\n",
            "Requirement already satisfied: joblib>=0.11 in /usr/local/lib/python3.10/dist-packages (from pynndescent>=0.5->umap-learn) (1.3.2)\n",
            "Requirement already satisfied: idna<4,>=2.5 in /usr/local/lib/python3.10/dist-packages (from requests<3.0.0,>=2.25.0->cohere) (3.4)\n",
            "Requirement already satisfied: certifi>=2017.4.17 in /usr/local/lib/python3.10/dist-packages (from requests<3.0.0,>=2.25.0->cohere) (2023.7.22)\n",
            "Requirement already satisfied: threadpoolctl>=2.0.0 in /usr/local/lib/python3.10/dist-packages (from scikit-learn>=0.22->umap-learn) (3.2.0)\n",
            "Requirement already satisfied: MarkupSafe>=2.0 in /usr/local/lib/python3.10/dist-packages (from jinja2->altair) (2.1.3)\n",
            "Requirement already satisfied: six>=1.5 in /usr/local/lib/python3.10/dist-packages (from python-dateutil>=2.8.1->pandas>=0.18->altair) (1.16.0)\n",
            "Building wheels for collected packages: umap-learn\n",
            "  Building wheel for umap-learn (setup.py) ... \u001b[?25l\u001b[?25hdone\n",
            "  Created wheel for umap-learn: filename=umap_learn-0.5.5-py3-none-any.whl size=86831 sha256=90aa52c59a27524276d165352f42725ee3d4cb19608d2653266aa21a303a9188\n",
            "  Stored in directory: /root/.cache/pip/wheels/3a/70/07/428d2b58660a1a3b431db59b806a10da736612ebbc66c1bcc5\n",
            "Successfully built umap-learn\n",
            "Installing collected packages: pyarrow-hotfix, fastavro, dill, backoff, multiprocess, pynndescent, cohere, umap-learn, datasets\n",
            "\u001b[31mERROR: pip's dependency resolver does not currently take into account all the packages that are installed. This behaviour is the source of the following dependency conflicts.\n",
            "llmx 0.0.15a0 requires openai, which is not installed.\n",
            "llmx 0.0.15a0 requires tiktoken, which is not installed.\u001b[0m\u001b[31m\n",
            "\u001b[0mSuccessfully installed backoff-2.2.1 cohere-4.37 datasets-2.15.0 dill-0.3.7 fastavro-1.9.0 multiprocess-0.70.15 pyarrow-hotfix-0.6 pynndescent-0.5.11 umap-learn-0.5.5\n"
          ]
        }
      ],
      "source": [
        "!pip install cohere umap-learn altair datasets"
      ]
    },
    {
      "cell_type": "code",
      "execution_count": 2,
      "metadata": {
        "colab": {
          "base_uri": "https://localhost:8080/"
        },
        "id": "0AAp4CW3k1RR",
        "outputId": "c96db5d5-4b46-452d-e31f-8a24bb09a0b3"
      },
      "outputs": [
        {
          "output_type": "stream",
          "name": "stdout",
          "text": [
            "Collecting python-dotenv\n",
            "  Downloading python_dotenv-1.0.0-py3-none-any.whl (19 kB)\n",
            "Installing collected packages: python-dotenv\n",
            "Successfully installed python-dotenv-1.0.0\n"
          ]
        }
      ],
      "source": [
        "!pip install python-dotenv"
      ]
    },
    {
      "cell_type": "code",
      "execution_count": 3,
      "metadata": {
        "id": "8CmjPtLSkt4E"
      },
      "outputs": [],
      "source": [
        "import os\n",
        "from dotenv import load_dotenv, find_dotenv\n",
        "_ = load_dotenv(find_dotenv())"
      ]
    },
    {
      "cell_type": "code",
      "execution_count": 4,
      "metadata": {
        "id": "VUPCrD3Mlgkq"
      },
      "outputs": [],
      "source": [
        "text = \"\"\"Laptop belongs to IT Category', 'Bricks belongs to Construction Category','Mobile belongs to IT Category','Cement belongs to construction Category\"\"\"\n"
      ]
    },
    {
      "cell_type": "code",
      "execution_count": 5,
      "metadata": {
        "id": "kiqsR1vrlx4i"
      },
      "outputs": [],
      "source": [
        "import numpy as np\n"
      ]
    },
    {
      "cell_type": "code",
      "execution_count": 6,
      "metadata": {
        "id": "ltNEWDUZkukY"
      },
      "outputs": [],
      "source": [
        "# Split into a list of paragraphs\n",
        "texts = text.split(',')\n",
        "\n",
        "# Clean up to remove empty spaces and new lines\n",
        "texts = np.array([t.strip(' \\n') for t in texts if t])"
      ]
    },
    {
      "cell_type": "code",
      "execution_count": 7,
      "metadata": {
        "id": "k4OsMbJAmdOc"
      },
      "outputs": [],
      "source": [
        "api_key = 'm8Ne2BF5YRWiVJpYk63UPN4OtpI4slkWuFXJKLdu'\n",
        "os.environ[\"COHERE_API_KEY\"] = api_key\n",
        "\n",
        "import cohere\n",
        "co = cohere.Client(os.environ[\"COHERE_API_KEY\"])"
      ]
    },
    {
      "cell_type": "code",
      "execution_count": 8,
      "metadata": {
        "id": "J4QWV3Ghk0Oz",
        "colab": {
          "base_uri": "https://localhost:8080/"
        },
        "outputId": "fb7784d2-60ec-4f20-b707-7bbb46dabc76"
      },
      "outputs": [
        {
          "output_type": "stream",
          "name": "stderr",
          "text": [
            "default model on embed will be deprecated in the future, please specify a model in the request.\n"
          ]
        }
      ],
      "source": [
        "#co = cohere.Client(os.environ['COHERE_API_KEY'])\n",
        "\n",
        "# Get the embeddings\n",
        "response = co.embed(\n",
        "    texts=texts.tolist(),\n",
        ").embeddings\n"
      ]
    },
    {
      "cell_type": "code",
      "execution_count": 9,
      "metadata": {
        "colab": {
          "base_uri": "https://localhost:8080/"
        },
        "id": "jNAWWgTJmnYj",
        "outputId": "41b729b9-651f-4cd3-99d7-d0e35df0a0df"
      },
      "outputs": [
        {
          "output_type": "stream",
          "name": "stdout",
          "text": [
            "Collecting weaviate-client\n",
            "  Downloading weaviate_client-3.25.3-py3-none-any.whl (120 kB)\n",
            "\u001b[2K     \u001b[90m━━━━━━━━━━━━━━━━━━━━━━━━━━━━━━━━━━━━━━━━\u001b[0m \u001b[32m120.3/120.3 kB\u001b[0m \u001b[31m3.5 MB/s\u001b[0m eta \u001b[36m0:00:00\u001b[0m\n",
            "\u001b[?25hCollecting Annoy\n",
            "  Downloading annoy-1.17.3.tar.gz (647 kB)\n",
            "\u001b[2K     \u001b[90m━━━━━━━━━━━━━━━━━━━━━━━━━━━━━━━━━━━━━━━━\u001b[0m \u001b[32m647.5/647.5 kB\u001b[0m \u001b[31m10.9 MB/s\u001b[0m eta \u001b[36m0:00:00\u001b[0m\n",
            "\u001b[?25h  Preparing metadata (setup.py) ... \u001b[?25l\u001b[?25hdone\n",
            "Requirement already satisfied: requests<3.0.0,>=2.30.0 in /usr/local/lib/python3.10/dist-packages (from weaviate-client) (2.31.0)\n",
            "Collecting validators<1.0.0,>=0.21.2 (from weaviate-client)\n",
            "  Downloading validators-0.22.0-py3-none-any.whl (26 kB)\n",
            "Collecting authlib<2.0.0,>=1.2.1 (from weaviate-client)\n",
            "  Downloading Authlib-1.2.1-py2.py3-none-any.whl (215 kB)\n",
            "\u001b[2K     \u001b[90m━━━━━━━━━━━━━━━━━━━━━━━━━━━━━━━━━━━━━━━━\u001b[0m \u001b[32m215.3/215.3 kB\u001b[0m \u001b[31m11.3 MB/s\u001b[0m eta \u001b[36m0:00:00\u001b[0m\n",
            "\u001b[?25hRequirement already satisfied: cryptography>=3.2 in /usr/local/lib/python3.10/dist-packages (from authlib<2.0.0,>=1.2.1->weaviate-client) (41.0.5)\n",
            "Requirement already satisfied: charset-normalizer<4,>=2 in /usr/local/lib/python3.10/dist-packages (from requests<3.0.0,>=2.30.0->weaviate-client) (3.3.2)\n",
            "Requirement already satisfied: idna<4,>=2.5 in /usr/local/lib/python3.10/dist-packages (from requests<3.0.0,>=2.30.0->weaviate-client) (3.4)\n",
            "Requirement already satisfied: urllib3<3,>=1.21.1 in /usr/local/lib/python3.10/dist-packages (from requests<3.0.0,>=2.30.0->weaviate-client) (2.0.7)\n",
            "Requirement already satisfied: certifi>=2017.4.17 in /usr/local/lib/python3.10/dist-packages (from requests<3.0.0,>=2.30.0->weaviate-client) (2023.7.22)\n",
            "Requirement already satisfied: cffi>=1.12 in /usr/local/lib/python3.10/dist-packages (from cryptography>=3.2->authlib<2.0.0,>=1.2.1->weaviate-client) (1.16.0)\n",
            "Requirement already satisfied: pycparser in /usr/local/lib/python3.10/dist-packages (from cffi>=1.12->cryptography>=3.2->authlib<2.0.0,>=1.2.1->weaviate-client) (2.21)\n",
            "Building wheels for collected packages: Annoy\n",
            "  Building wheel for Annoy (setup.py) ... \u001b[?25l\u001b[?25hdone\n",
            "  Created wheel for Annoy: filename=annoy-1.17.3-cp310-cp310-linux_x86_64.whl size=552450 sha256=9676350897153109aad6abca27047a19c87eec16f780193b83de18b8dcf3587a\n",
            "  Stored in directory: /root/.cache/pip/wheels/64/8a/da/f714bcf46c5efdcfcac0559e63370c21abe961c48e3992465a\n",
            "Successfully built Annoy\n",
            "Installing collected packages: Annoy, validators, authlib, weaviate-client\n",
            "Successfully installed Annoy-1.17.3 authlib-1.2.1 validators-0.22.0 weaviate-client-3.25.3\n"
          ]
        }
      ],
      "source": [
        "!pip install weaviate-client Annoy\n",
        "from annoy import AnnoyIndex\n",
        "import numpy as np\n",
        "import pandas as pd"
      ]
    },
    {
      "cell_type": "code",
      "execution_count": 10,
      "metadata": {
        "colab": {
          "base_uri": "https://localhost:8080/"
        },
        "id": "qxWLyIfKmp0M",
        "outputId": "773d37b5-1cc1-4c4c-f92b-2edbf9560e2e"
      },
      "outputs": [
        {
          "output_type": "execute_result",
          "data": {
            "text/plain": [
              "True"
            ]
          },
          "metadata": {},
          "execution_count": 10
        }
      ],
      "source": [
        "# Check the dimensions of the embeddings\n",
        "embeds = np.array(response)\n",
        "\n",
        "# Create the search index, pass the size of embedding\n",
        "search_index = AnnoyIndex(embeds.shape[1], 'angular')\n",
        "# Add all the vectors to the search index\n",
        "for i in range(len(embeds)):\n",
        "    search_index.add_item(i, embeds[i])\n",
        "\n",
        "search_index.build(10) # 10 trees\n",
        "search_index.save('test.ann')"
      ]
    },
    {
      "cell_type": "code",
      "execution_count": 11,
      "metadata": {
        "colab": {
          "base_uri": "https://localhost:8080/"
        },
        "id": "ueU-l3MRo5hk",
        "outputId": "e9a74be0-3411-42e1-cbd4-e5b9f8b2b8ec"
      },
      "outputs": [
        {
          "output_type": "stream",
          "name": "stdout",
          "text": [
            "Accton Technology Corporation is a global leader in the design and manufacturing of Ethernet networking devices. This Taiwanese company was established in 1988 and primarily provides wired and wireless solutions for data centers, service providers, enterprises, and SMEs. Edge-Core ECS4100 Series, Edge-Core ECIS4500 Series, Edge-Core ECS2100 Series, Edge-Core ECS4620 Series, Edge-Core ECS4110 Series, Edge-Core ECS5120 Series, Edge-Core Wi-Fi 6, Edge-Core 10 Gigabit Ethernet, Edge-Core Cloud Managed Wi-Fi, Edge-Core SDN Switches, Edge-Core Data Center Switches, Edge-Core Bare Metal Switches, Edge-Core Layer 2 Switches, Edge-Core Industrial Switches, Edge-Core PoE Switches, Edge-Core Carrier Ethernet Switches, Edge-Core IP Cameras, Edge-Core Access Points, Edge-Core WLAN Controllers, Edge-Core Layer 3 Switches IT Services, Computer Networking, Computer Hardware, Internet, Telecommunications, Data Center, Cloud Services, Network Security, Wireless Technology, Enterprise Software, Software Development, Manufacturing, IP Surveillance, Mobile Devices, Education, Health Care, Government, Retail, Hospitality, Transportation\n"
          ]
        }
      ],
      "source": [
        "sample1= {\"Home Depot\" : {\n",
        "  \"company_name\": \"Home Depot\",\n",
        "  \"overview\": \"Home Depot is the largest home improvement retailer in the US. It provides tools, construction products, and services. Its stores offer approximately 40,000 products in-store and an additional one million products online. Founded in 1978, Home Depot now operates in the United States, Canada, and Mexico.\",\n",
        "  \"products\": \"Hammer, Nails, Ladders, Paint, Ceiling Fans, Lighting Fixtures, Bathroom Fixtures, Kitchen Appliances, Garden Tools, Outdoor Grills, Plumbing Supplies, Flooring, Tiles, Doors, Windows, Power Tools, Outdoor Furniture, Heating and Cooling Systems, Electrical Supplies, Building Materials, Safety Gear\",\n",
        "  \"industry\": \"Retail, Home Improvement, E-commerce, Consumer Goods, Building Materials, Flooring, Plumbing, Electrical, Lighting, Kitchen & Bath Fixtures, Tools, Hardware, Lumber, Paint, Appliances, Garden Supplies, Decor\",\n",
        "  \"domain\": \"homedepot.com, proreferral.com, compactpowerrents.com, homedepot.ca, homedepot.com.mx\",\n",
        "  \"mcc_code\": \"5200\",\n",
        "  \"alias\": \"Home Depot, Home Depot Inc., The Home Depot, homedepot, HomeDepot.com, HomeDepot\"\n",
        "}}\n",
        "\n",
        "sample = {\"Accton Technologies\":{\n",
        "  \"company_name\": \"Accton Technologies\",\n",
        "  \"overview\": \"Accton Technology Corporation is a global leader in the design and manufacturing of Ethernet networking devices. This Taiwanese company was established in 1988 and primarily provides wired and wireless solutions for data centers, service providers, enterprises, and SMEs.\",\n",
        "  \"products\": \"Edge-Core ECS4100 Series, Edge-Core ECIS4500 Series, Edge-Core ECS2100 Series, Edge-Core ECS4620 Series, Edge-Core ECS4110 Series, Edge-Core ECS5120 Series, Edge-Core Wi-Fi 6, Edge-Core 10 Gigabit Ethernet, Edge-Core Cloud Managed Wi-Fi, Edge-Core SDN Switches, Edge-Core Data Center Switches, Edge-Core Bare Metal Switches, Edge-Core Layer 2 Switches, Edge-Core Industrial Switches, Edge-Core PoE Switches, Edge-Core Carrier Ethernet Switches, Edge-Core IP Cameras, Edge-Core Access Points, Edge-Core WLAN Controllers, Edge-Core Layer 3 Switches\",\n",
        "  \"industry\": \"IT Services, Computer Networking, Computer Hardware, Internet, Telecommunications, Data Center, Cloud Services, Network Security, Wireless Technology, Enterprise Software, Software Development, Manufacturing, IP Surveillance, Mobile Devices, Education, Health Care, Government, Retail, Hospitality, Transportation\",\n",
        "  \"domain\": \"accton.com, edge-core.com, edge-core.net, smartrg.com, accton.net\",\n",
        "  \"mcc_code\": \"3575\",\n",
        "  \"alias\": \"Accton, Accton Tech Corp, Accton Group, SMB Accton Group, Accton Networking, Accton Corporation, Accton Technology, Accton Taiwan, Accton Networking Global, Accton Hardware, Accton Systems, Accton Software, Edge-Core Networks Corp, Edge-Core Accton, Edge-Core Technologies, Accton's Edge-Core Networks, Accton Telecommunication, Accton's Edge-Core Brands, Accton Manufacturing, Accton Technology Solutions\"\n",
        "}}\n",
        "\n",
        "company_info = sample[\"Accton Technologies\"]\n",
        "\n",
        "# Extract the individual fields\n",
        "overview = company_info.get(\"overview\", \"\")\n",
        "products = company_info.get(\"products\", \"\")\n",
        "industry = company_info.get(\"industry\", \"\")\n",
        "\n",
        "# Concatenate the overview, products, and industry\n",
        "query = f\"{overview} {products} {industry}\"\n",
        "\n",
        "# Print the concatenated information\n",
        "print(query)\n"
      ]
    },
    {
      "cell_type": "code",
      "execution_count": 12,
      "metadata": {
        "id": "dFH8IvBEm_3Y"
      },
      "outputs": [],
      "source": [
        "import re\n",
        "\n",
        "\n",
        "def semantic_search(query):\n",
        "    # Get the query's embedding\n",
        "    query_embed = co.embed(texts=[query]).embeddings\n",
        "\n",
        "    # Retrieve the nearest neighbors\n",
        "    similar_item_ids = search_index.get_nns_by_vector(query_embed[0],\n",
        "                                                    10,\n",
        "                                                  include_distances=True)\n",
        "\n",
        "    search_results = texts[similar_item_ids[0]]\n",
        "\n",
        "    #extracting category from the nearest neighbour\n",
        "    pattern = r'(\\w+) Category'\n",
        "    match = re.search(pattern, search_results[0])\n",
        "\n",
        "    result = match.group(1)\n",
        "\n",
        "    return result"
      ]
    },
    {
      "cell_type": "code",
      "execution_count": 13,
      "metadata": {
        "id": "G6VOcEaypKHG",
        "colab": {
          "base_uri": "https://localhost:8080/"
        },
        "outputId": "d9425e73-eb80-462e-ce90-d3eac9a0313f"
      },
      "outputs": [
        {
          "output_type": "stream",
          "name": "stderr",
          "text": [
            "default model on embed will be deprecated in the future, please specify a model in the request.\n"
          ]
        }
      ],
      "source": [
        "results = semantic_search(query)"
      ]
    },
    {
      "cell_type": "code",
      "execution_count": 14,
      "metadata": {
        "colab": {
          "base_uri": "https://localhost:8080/"
        },
        "id": "5VPYjXoLpS_M",
        "outputId": "e4faef69-6d2c-4e64-c9e9-d2d4037400d2"
      },
      "outputs": [
        {
          "output_type": "stream",
          "name": "stdout",
          "text": [
            "IT\n"
          ]
        }
      ],
      "source": [
        "print(results)"
      ]
    },
    {
      "cell_type": "code",
      "execution_count": null,
      "metadata": {
        "id": "yor0wCVHpX_K"
      },
      "outputs": [],
      "source": []
    },
    {
      "cell_type": "code",
      "execution_count": null,
      "metadata": {
        "id": "0gG3m8Berowm"
      },
      "outputs": [],
      "source": []
    }
  ],
  "metadata": {
    "colab": {
      "provenance": []
    },
    "kernelspec": {
      "display_name": "Python 3",
      "name": "python3"
    },
    "language_info": {
      "name": "python"
    }
  },
  "nbformat": 4,
  "nbformat_minor": 0
}